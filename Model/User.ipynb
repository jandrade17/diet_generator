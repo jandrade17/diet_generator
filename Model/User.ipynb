{
 "cells": [
  {
   "cell_type": "code",
   "execution_count": 37,
   "id": "ff76da8c-3010-476c-beef-1c29d9e40cad",
   "metadata": {},
   "outputs": [],
   "source": [
    "class User():\n",
    "    \n",
    "    def __init__(self, name, email, password):\n",
    "        self.name = name\n",
    "        self.email = email\n",
    "        self.password = password\n",
    "        self.dict_recipes = {}           \n",
    "        self.wish_list = []\n",
    "        \n",
    "        \n",
    "    def add_recipe(self, id_recipe, rating, is_favorite):\n",
    "        \n",
    "        self.dict_recipes[id_recipe] = {\n",
    "            \"rating\": rating, \n",
    "            \"is_favorite\": is_favorite\n",
    "        }\n",
    "        \n",
    "        if id_recipe in self.wish_list:\n",
    "            self.remove_wish_list(id_recipe)\n",
    "        \n",
    "    def remove_recipe(self, id_recipe):\n",
    "        del self.dict_recipes[id_recipe]\n",
    "        \n",
    "    def add_wish_list(self, id_recipe):\n",
    "        \n",
    "        #TODO nao permitir adicionar repetidos na lista de receitas\n",
    "        \n",
    "        self.wish_list.append(id_recipe)\n",
    "        \n",
    "    def remove_wish_list(self, id_recipe):\n",
    "        self.wish_list.remove(id_recipe)   \n",
    "        \n",
    "    def get_name(self):\n",
    "        return self.name\n",
    "    \n",
    "    def set_name(self, new_name):\n",
    "        self.name = new_name\n",
    "        \n",
    "    #TODO adicionar gets & sets para todos os atributos\n",
    "    \n",
    "    def get_wish_list_index(index):\n",
    "        return self.wish_list[index]"
   ]
  },
  {
   "cell_type": "code",
   "execution_count": null,
   "id": "314b3bae-b724-4374-87f6-a7d8bf7d9927",
   "metadata": {},
   "outputs": [],
   "source": [
    "jorge = User(\"Jorge\", \"jorge@gmail.com\")"
   ]
  },
  {
   "cell_type": "code",
   "execution_count": null,
   "id": "6aea385c-c317-4e38-922f-1d88aea6929d",
   "metadata": {},
   "outputs": [],
   "source": [
    "jorge.add_wish_list(9)\n",
    "jorge.add_wish_list(10)"
   ]
  },
  {
   "cell_type": "code",
   "execution_count": null,
   "id": "842acf09-3291-45b5-85d9-510e78578904",
   "metadata": {},
   "outputs": [
    {
     "data": {
      "text/plain": [
       "{9, 10}"
      ]
     },
     "execution_count": 31,
     "metadata": {},
     "output_type": "execute_result"
    }
   ],
   "source": [
    "jorge.wish_list"
   ]
  },
  {
   "cell_type": "code",
   "execution_count": null,
   "id": "e76aa691-e9ed-4fa6-85d9-a283b822a636",
   "metadata": {},
   "outputs": [],
   "source": [
    "jorge.add_recipe(10, 4, True)"
   ]
  },
  {
   "cell_type": "code",
   "execution_count": null,
   "id": "9fddc45b-8d62-476a-bd87-73f7dfd7b04a",
   "metadata": {},
   "outputs": [
    {
     "data": {
      "text/plain": [
       "{9}"
      ]
     },
     "execution_count": 33,
     "metadata": {},
     "output_type": "execute_result"
    }
   ],
   "source": [
    "jorge.wish_list"
   ]
  },
  {
   "cell_type": "code",
   "execution_count": null,
   "id": "c8490c8c-68af-4c89-9aa9-7504d6e9c3f5",
   "metadata": {},
   "outputs": [
    {
     "data": {
      "text/plain": [
       "{10: {'rating': 4, 'is_favorite': True}}"
      ]
     },
     "execution_count": 34,
     "metadata": {},
     "output_type": "execute_result"
    }
   ],
   "source": [
    "jorge.dict_recipes"
   ]
  },
  {
   "cell_type": "code",
   "execution_count": null,
   "id": "acc45e8d-5e5c-43ab-9d13-af37a5a1b3b4",
   "metadata": {},
   "outputs": [],
   "source": [
    "jorge.add_recipe(8, 5, False)"
   ]
  },
  {
   "cell_type": "code",
   "execution_count": null,
   "id": "fe4c247f-634b-4363-aacb-14571e720a30",
   "metadata": {},
   "outputs": [
    {
     "data": {
      "text/plain": [
       "{10: {'rating': 4, 'is_favorite': True},\n",
       " 8: {'rating': 5, 'is_favorite': False}}"
      ]
     },
     "execution_count": 36,
     "metadata": {},
     "output_type": "execute_result"
    }
   ],
   "source": [
    "jorge.dict_recipes"
   ]
  },
  {
   "cell_type": "code",
   "execution_count": null,
   "id": "dffdee92-b0f4-4d67-ac2b-ba081ed2c1aa",
   "metadata": {},
   "outputs": [],
   "source": []
  }
 ],
 "metadata": {
  "kernelspec": {
   "display_name": "Python 3 (ipykernel)",
   "language": "python",
   "name": "python3"
  },
  "language_info": {
   "codemirror_mode": {
    "name": "ipython",
    "version": 3
   },
   "file_extension": ".py",
   "mimetype": "text/x-python",
   "name": "python",
   "nbconvert_exporter": "python",
   "pygments_lexer": "ipython3",
   "version": "3.9.12"
  }
 },
 "nbformat": 4,
 "nbformat_minor": 5
}
