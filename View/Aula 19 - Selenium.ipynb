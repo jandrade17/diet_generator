{
 "cells": [
  {
   "cell_type": "code",
   "execution_count": 1,
   "id": "5db5f4ec-66fd-4c1c-96ab-bc72427aea12",
   "metadata": {},
   "outputs": [],
   "source": [
    "import requests\n",
    "from bs4 import BeautifulSoup\n",
    "\n",
    "url = \"https://www.paodeacucar.com/especial/hs_cervejas?s=descDiscount&p=1\"\n",
    "\n",
    "result = requests.get(url)\n",
    "\n",
    "text = result.content"
   ]
  },
  {
   "cell_type": "code",
   "execution_count": 2,
   "id": "cf3095f3-6f05-4cf0-b3f0-5c960a45005f",
   "metadata": {},
   "outputs": [],
   "source": [
    "soup = BeautifulSoup(text, \"html.parser\")"
   ]
  },
  {
   "cell_type": "code",
   "execution_count": 3,
   "id": "8c5a7cb9-c438-43d4-b092-8e773db12d32",
   "metadata": {},
   "outputs": [
    {
     "data": {
      "text/plain": [
       "[]"
      ]
     },
     "execution_count": 3,
     "metadata": {},
     "output_type": "execute_result"
    }
   ],
   "source": [
    "soup.find_all(\"div\", class_=\"price-tag-normalstyle__LabelPrice-sc-1co9fex-0 lkWvql\")"
   ]
  },
  {
   "cell_type": "markdown",
   "id": "ba22c483-faab-4457-9f68-4f7b888631bf",
   "metadata": {
    "tags": []
   },
   "source": [
    "# Usando Selenium"
   ]
  },
  {
   "cell_type": "code",
   "execution_count": 4,
   "id": "ad8ab15f-6b11-4678-9e9d-57138fcb27fc",
   "metadata": {
    "collapsed": true,
    "jupyter": {
     "outputs_hidden": true
    },
    "tags": []
   },
   "outputs": [
    {
     "name": "stdout",
     "output_type": "stream",
     "text": [
      "Requirement already satisfied: undetected-chromedriver in c:\\users\\marci\\anaconda3\\lib\\site-packages (3.4.6)\n",
      "Requirement already satisfied: websockets in c:\\users\\marci\\anaconda3\\lib\\site-packages (from undetected-chromedriver) (10.4)\n",
      "Requirement already satisfied: requests in c:\\users\\marci\\anaconda3\\lib\\site-packages (from undetected-chromedriver) (2.27.1)\n",
      "Requirement already satisfied: selenium>=4.0.0 in c:\\users\\marci\\anaconda3\\lib\\site-packages (from undetected-chromedriver) (4.8.2)\n",
      "Requirement already satisfied: trio-websocket~=0.9 in c:\\users\\marci\\anaconda3\\lib\\site-packages (from selenium>=4.0.0->undetected-chromedriver) (0.9.2)\n",
      "Requirement already satisfied: certifi>=2021.10.8 in c:\\users\\marci\\anaconda3\\lib\\site-packages (from selenium>=4.0.0->undetected-chromedriver) (2021.10.8)\n",
      "Requirement already satisfied: trio~=0.17 in c:\\users\\marci\\anaconda3\\lib\\site-packages (from selenium>=4.0.0->undetected-chromedriver) (0.22.0)\n",
      "Requirement already satisfied: urllib3[socks]~=1.26 in c:\\users\\marci\\anaconda3\\lib\\site-packages (from selenium>=4.0.0->undetected-chromedriver) (1.26.9)\n",
      "Requirement already satisfied: sniffio in c:\\users\\marci\\anaconda3\\lib\\site-packages (from trio~=0.17->selenium>=4.0.0->undetected-chromedriver) (1.2.0)\n",
      "Requirement already satisfied: idna in c:\\users\\marci\\anaconda3\\lib\\site-packages (from trio~=0.17->selenium>=4.0.0->undetected-chromedriver) (3.3)\n",
      "Requirement already satisfied: sortedcontainers in c:\\users\\marci\\anaconda3\\lib\\site-packages (from trio~=0.17->selenium>=4.0.0->undetected-chromedriver) (2.4.0)\n",
      "Requirement already satisfied: exceptiongroup>=1.0.0rc9 in c:\\users\\marci\\anaconda3\\lib\\site-packages (from trio~=0.17->selenium>=4.0.0->undetected-chromedriver) (1.1.0)\n",
      "Requirement already satisfied: async-generator>=1.9 in c:\\users\\marci\\anaconda3\\lib\\site-packages (from trio~=0.17->selenium>=4.0.0->undetected-chromedriver) (1.10)\n",
      "Requirement already satisfied: outcome in c:\\users\\marci\\anaconda3\\lib\\site-packages (from trio~=0.17->selenium>=4.0.0->undetected-chromedriver) (1.2.0)\n",
      "Requirement already satisfied: cffi>=1.14 in c:\\users\\marci\\anaconda3\\lib\\site-packages (from trio~=0.17->selenium>=4.0.0->undetected-chromedriver) (1.15.0)\n",
      "Requirement already satisfied: attrs>=19.2.0 in c:\\users\\marci\\anaconda3\\lib\\site-packages (from trio~=0.17->selenium>=4.0.0->undetected-chromedriver) (21.4.0)\n",
      "Requirement already satisfied: pycparser in c:\\users\\marci\\anaconda3\\lib\\site-packages (from cffi>=1.14->trio~=0.17->selenium>=4.0.0->undetected-chromedriver) (2.21)\n",
      "Requirement already satisfied: wsproto>=0.14 in c:\\users\\marci\\anaconda3\\lib\\site-packages (from trio-websocket~=0.9->selenium>=4.0.0->undetected-chromedriver) (1.2.0)\n",
      "Requirement already satisfied: PySocks!=1.5.7,<2.0,>=1.5.6 in c:\\users\\marci\\anaconda3\\lib\\site-packages (from urllib3[socks]~=1.26->selenium>=4.0.0->undetected-chromedriver) (1.7.1)\n",
      "Requirement already satisfied: h11<1,>=0.9.0 in c:\\users\\marci\\anaconda3\\lib\\site-packages (from wsproto>=0.14->trio-websocket~=0.9->selenium>=4.0.0->undetected-chromedriver) (0.14.0)\n",
      "Requirement already satisfied: charset-normalizer~=2.0.0 in c:\\users\\marci\\anaconda3\\lib\\site-packages (from requests->undetected-chromedriver) (2.0.4)\n"
     ]
    }
   ],
   "source": [
    "!pip install undetected-chromedriver"
   ]
  },
  {
   "cell_type": "code",
   "execution_count": 5,
   "id": "dd5ad74c-833b-41fc-a840-0fc9cbc79700",
   "metadata": {},
   "outputs": [],
   "source": [
    "import undetected_chromedriver as uc\n",
    "from selenium import webdriver\n",
    "import requests\n",
    "from bs4 import BeautifulSoup"
   ]
  },
  {
   "cell_type": "code",
   "execution_count": 6,
   "id": "4f6d9303-db4d-4265-82c5-f0fbb9aa6e6e",
   "metadata": {
    "tags": []
   },
   "outputs": [
    {
     "name": "stdout",
     "output_type": "stream",
     "text": [
      "Acessando https://www.paodeacucar.com/especial/hs_gins?p=1\n",
      "\n",
      "Cloudflare\n",
      "Acessando https://www.paodeacucar.com/especial/hs_whiskies?p=1\n",
      "\n",
      "Cloudflare\n",
      "Acessando https://www.paodeacucar.com/especial/hs_cervejasespeciais?p=1\n",
      "\n",
      "Cloudflare\n",
      "Acessando https://www.paodeacucar.com/especial/hs_cervejas?p=1\n",
      "Cloudflare\n",
      "CPU times: total: 281 ms\n",
      "Wall time: 19 s\n"
     ]
    }
   ],
   "source": [
    "%%time\n",
    "\n",
    "with open(\"pages_paodeacucar.txt\") as file:\n",
    "    for url in file:\n",
    "        print(\"Acessando\", url)\n",
    "        options = webdriver.ChromeOptions()\n",
    "        options.add_argument(\"headless\")\n",
    "        driver = uc.Chrome(chrome_options = options)\n",
    "        driver.get(url.replace(\"\\n\",\"\"))\n",
    "        texto = driver.page_source\n",
    "        if not \"cloudflare\" in texto.lower():\n",
    "            soup = BeautifulSoup(texto, \"html.parser\")\n",
    "            precos = []\n",
    "            for price in soup.find_all(\"div\", class_=\"price-tag-normalstyle__LabelPrice-sc-1co9fex-0 lkWvql\"):\n",
    "                print(price)\n",
    "        else:\n",
    "            print(\"Cloudflare\")\n",
    "        driver.close()"
   ]
  },
  {
   "cell_type": "markdown",
   "id": "8004cbd4-09f1-423c-bf15-b85d01feded6",
   "metadata": {},
   "source": [
    "# Acessando apenas um site\n",
    "\n"
   ]
  },
  {
   "cell_type": "code",
   "execution_count": 7,
   "id": "2ed9278c-faee-4211-b210-a0da0f92b18c",
   "metadata": {},
   "outputs": [
    {
     "name": "stdout",
     "output_type": "stream",
     "text": [
      "Cloudflare\n"
     ]
    }
   ],
   "source": [
    "url = \"https://www.paodeacucar.com/especial/hs_gins?p=1\"\n",
    "\n",
    "options = webdriver.ChromeOptions()\n",
    "options.add_argument(\"headless\")\n",
    "driver = uc.Chrome(chrome_options = options)\n",
    "driver.get(url.replace(\"\\n\",\"\"))\n",
    "texto = driver.page_source\n",
    "if not \"cloudflare\" in texto.lower():\n",
    "    soup = BeautifulSoup(texto, \"html.parser\")\n",
    "    precos = []\n",
    "    for price in soup.find_all(\"div\", class_=\"price-tag-normalstyle__LabelPrice-sc-1co9fex-0 lkWvql\"):\n",
    "        print(price)\n",
    "else:\n",
    "    print(\"Cloudflare\")"
   ]
  },
  {
   "cell_type": "markdown",
   "id": "53d3b6c8-72ba-4e4b-ae62-1f9cbe8049bf",
   "metadata": {},
   "source": [
    "# Missão"
   ]
  },
  {
   "cell_type": "markdown",
   "id": "2d13f143-3ef5-4712-bafe-626a7174b7c8",
   "metadata": {},
   "source": [
    "Tentar capturar dados de algum site que tem Cloudflare, usando Selenium"
   ]
  },
  {
   "cell_type": "code",
   "execution_count": null,
   "id": "bf24828a-0cd9-4b0f-9b26-65d9a06ce0a6",
   "metadata": {},
   "outputs": [],
   "source": []
  },
  {
   "cell_type": "markdown",
   "id": "2241a0f5-e851-4f47-934a-9e7849b29c42",
   "metadata": {},
   "source": [
    "# Próxima aula"
   ]
  },
  {
   "cell_type": "markdown",
   "id": "68f1e533-04da-48af-827f-beca47d485ee",
   "metadata": {},
   "source": [
    "Tkinter"
   ]
  }
 ],
 "metadata": {
  "kernelspec": {
   "display_name": "Python 3 (ipykernel)",
   "language": "python",
   "name": "python3"
  },
  "language_info": {
   "codemirror_mode": {
    "name": "ipython",
    "version": 3
   },
   "file_extension": ".py",
   "mimetype": "text/x-python",
   "name": "python",
   "nbconvert_exporter": "python",
   "pygments_lexer": "ipython3",
   "version": "3.9.12"
  }
 },
 "nbformat": 4,
 "nbformat_minor": 5
}
