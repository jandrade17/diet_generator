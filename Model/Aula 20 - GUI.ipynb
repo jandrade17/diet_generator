{
 "cells": [
  {
   "cell_type": "markdown",
   "id": "80cc1302-5c0e-46e4-84f0-15aa134c1967",
   "metadata": {},
   "source": [
    "# Instalando Tkinter"
   ]
  },
  {
   "cell_type": "code",
   "execution_count": 1,
   "id": "26cd2767-5104-45ab-87c0-8425831f4e69",
   "metadata": {},
   "outputs": [
    {
     "name": "stdout",
     "output_type": "stream",
     "text": [
      "Requirement already satisfied: tk in c:\\users\\marci\\anaconda3\\lib\\site-packages (0.1.0)\n"
     ]
    }
   ],
   "source": [
    "!pip install tk"
   ]
  },
  {
   "cell_type": "markdown",
   "id": "3efef313-1dc6-45e5-9f3c-62304368b463",
   "metadata": {},
   "source": [
    "# Diferença de fazer um \"import\" ou usar um \"from import *\""
   ]
  },
  {
   "cell_type": "code",
   "execution_count": 2,
   "id": "e93f19a2-7fa2-40d7-b201-b6295bc12089",
   "metadata": {},
   "outputs": [],
   "source": [
    "import tkinter\n",
    "\n",
    "frame1 = tkinter.Frame()"
   ]
  },
  {
   "cell_type": "code",
   "execution_count": 5,
   "id": "29efc774-e52e-4683-a5fa-c0d5f30fe6ea",
   "metadata": {},
   "outputs": [],
   "source": [
    "from tkinter import *\n",
    "\n",
    "frame1 = Frame()"
   ]
  },
  {
   "cell_type": "markdown",
   "id": "5255f4c3-8f22-4e01-a6b8-bbfed66a6343",
   "metadata": {},
   "source": [
    "# Primeira janelinha"
   ]
  },
  {
   "cell_type": "code",
   "execution_count": 8,
   "id": "4c45ae1b-e6b4-4214-aaa4-e93f4bf4b015",
   "metadata": {},
   "outputs": [],
   "source": [
    "from tkinter import * \n",
    "\n",
    "main_window = Tk()\n",
    "\n",
    "main_window.title(\"Caixa Eletronico\")\n",
    "main_window.geometry(\"400x300\")\n",
    "main_window.tk_setPalette(background=\"blue\", foreground=\"gray\", activeBackground=\"green\")\n",
    "\n",
    "main_window.mainloop()"
   ]
  },
  {
   "cell_type": "markdown",
   "id": "6b1c7da8-8a29-4f15-b809-9f5c3b27a9b7",
   "metadata": {},
   "source": [
    "# Adicionando um botão"
   ]
  },
  {
   "cell_type": "code",
   "execution_count": null,
   "id": "5a03e8d0-acfd-4356-9989-de66d3e6f2f4",
   "metadata": {},
   "outputs": [],
   "source": [
    "from tkinter import * \n",
    "\n",
    "main_window = Tk()\n",
    "\n",
    "main_window.title(\"Caixa Eletronico\")\n",
    "main_window.geometry(\"400x300\")\n",
    "main_window.tk_setPalette(background=\"blue\", foreground=\"gray\", activeBackground=\"green\")\n",
    "\n",
    "button = Button(main_window, text=\"Clique aqui\", bg=\"black\")\n",
    "button.pack()\n",
    "\n",
    "main_window.mainloop()"
   ]
  },
  {
   "cell_type": "markdown",
   "id": "c0b37e12-8ae0-451e-84dd-a4062c024641",
   "metadata": {},
   "source": [
    "# Criando um formulario"
   ]
  },
  {
   "cell_type": "code",
   "execution_count": 10,
   "id": "e338b746-05c4-446e-abf3-f8b7831cb0d7",
   "metadata": {},
   "outputs": [],
   "source": [
    "from tkinter import * \n",
    "\n",
    "main_window = Tk()\n",
    "\n",
    "main_window.title(\"Registro Eletronico\")\n",
    "main_window.geometry(\"300x150\")\n",
    "\n",
    "frame_1 = Frame(main_window)\n",
    "frame_1.pack()\n",
    "\n",
    "label_1 = Label(frame_1, text=\"Nome: \") # texto\n",
    "label_1.pack(side=LEFT)\n",
    "\n",
    "entry_name = Entry(frame_1) # campo\n",
    "entry_name.pack(side=LEFT) \n",
    "\n",
    "frame_2 = Frame(main_window)\n",
    "frame_2.pack()\n",
    "\n",
    "label_2 = Label(frame_2, text=\"Idade: \") # texto\n",
    "label_2.pack(side=LEFT)\n",
    "\n",
    "entry_age = Entry(frame_2) # campo\n",
    "entry_age.pack(side=LEFT)\n",
    "\n",
    "\n",
    "frame_3 = Frame(main_window)\n",
    "frame_3.pack()\n",
    "\n",
    "button = Button(frame_3, text=\"Enviar\")\n",
    "button.pack()\n",
    "\n",
    "main_window.mainloop()"
   ]
  },
  {
   "cell_type": "markdown",
   "id": "48110174-29a5-44ba-92ea-8514b68abd34",
   "metadata": {},
   "source": [
    "# Adicionando um command no botao"
   ]
  },
  {
   "cell_type": "code",
   "execution_count": 11,
   "id": "62474880-46c6-4636-a916-3270df65a8bd",
   "metadata": {},
   "outputs": [
    {
     "name": "stdout",
     "output_type": "stream",
     "text": [
      "Bem vindo!\n",
      "Bem vindo!\n",
      "Bem vindo!\n",
      "Bem vindo!\n",
      "Bem vindo!\n",
      "Bem vindo!\n",
      "Bem vindo!\n"
     ]
    }
   ],
   "source": [
    "from tkinter import * \n",
    "\n",
    "main_window = Tk()\n",
    "\n",
    "main_window.title(\"Registro Eletronico\")\n",
    "main_window.geometry(\"300x150\")\n",
    "\n",
    "frame_1 = Frame(main_window)\n",
    "frame_1.pack()\n",
    "\n",
    "label_1 = Label(frame_1, text=\"Nome: \") # texto\n",
    "label_1.pack(side=LEFT)\n",
    "\n",
    "entry_name = Entry(frame_1) # campo\n",
    "entry_name.pack(side=LEFT) \n",
    "\n",
    "frame_2 = Frame(main_window)\n",
    "frame_2.pack()\n",
    "\n",
    "label_2 = Label(frame_2, text=\"Idade: \") # texto\n",
    "label_2.pack(side=LEFT)\n",
    "\n",
    "entry_age = Entry(frame_2) # campo\n",
    "entry_age.pack(side=LEFT)\n",
    "\n",
    "frame_3 = Frame(main_window)\n",
    "frame_3.pack()\n",
    "\n",
    "\n",
    "def bem_vindo():\n",
    "    print(\"Bem vindo!\")\n",
    "\n",
    "\n",
    "button = Button(frame_3, text=\"Enviar\", command=bem_vindo)\n",
    "button.pack()\n",
    "\n",
    "main_window.mainloop()"
   ]
  },
  {
   "cell_type": "markdown",
   "id": "ef1f5a7c-7729-486e-8627-10a0cc4de521",
   "metadata": {},
   "source": [
    "# Adicionando Labels na tela"
   ]
  },
  {
   "cell_type": "code",
   "execution_count": 17,
   "id": "6aa0eade-7d3f-4de6-9894-5fb96be2484e",
   "metadata": {
    "collapsed": true,
    "jupyter": {
     "outputs_hidden": true
    },
    "tags": []
   },
   "outputs": [
    {
     "name": "stderr",
     "output_type": "stream",
     "text": [
      "Exception in Tkinter callback\n",
      "Traceback (most recent call last):\n",
      "  File \"C:\\Users\\marci\\anaconda3\\lib\\tkinter\\__init__.py\", line 1892, in __call__\n",
      "    return self.func(*args)\n",
      "  File \"C:\\Users\\marci\\AppData\\Local\\Temp\\ipykernel_5740\\1671220779.py\", line 31, in bem_vindo\n",
      "    if int(entry_age.get())>30:\n",
      "ValueError: invalid literal for int() with base 10: '0.8'\n"
     ]
    }
   ],
   "source": [
    "from tkinter import * \n",
    "\n",
    "main_window = Tk()\n",
    "\n",
    "main_window.title(\"Registro Eletronico\")\n",
    "main_window.geometry(\"300x150\")\n",
    "\n",
    "frame_1 = Frame(main_window)\n",
    "frame_1.pack()\n",
    "\n",
    "label_1 = Label(frame_1, text=\"Nome: \") # texto\n",
    "label_1.pack(side=LEFT)\n",
    "\n",
    "entry_name = Entry(frame_1) # campo\n",
    "entry_name.pack(side=LEFT) \n",
    "\n",
    "frame_2 = Frame(main_window)\n",
    "frame_2.pack()\n",
    "\n",
    "label_2 = Label(frame_2, text=\"Idade: \") # texto\n",
    "label_2.pack(side=LEFT)\n",
    "\n",
    "entry_age = Entry(frame_2) # campo\n",
    "entry_age.pack(side=LEFT)\n",
    "\n",
    "frame_3 = Frame(main_window)\n",
    "frame_3.pack()\n",
    "\n",
    "\n",
    "def bem_vindo(event):\n",
    "    if int(entry_age.get())>30:\n",
    "        label_welcome.config(text = \"Bem vindo, Sr(a) {}\".format(entry_name.get()))\n",
    "    else:\n",
    "        label_welcome.config(text = \"Bem vindo, {}\".format(entry_name.get()))\n",
    "        \n",
    "def tchau(event):\n",
    "    label_welcome.config(text = \"Tchau, {}\".format(entry_name.get()))\n",
    "    entry_name.delete(0, END)\n",
    "    entry_age.delete(0, END)\n",
    "\n",
    "\n",
    "button = Button(frame_3, text=\"Enviar\")\n",
    "button.bind(\"<Button-1>\", bem_vindo) # botao esquerdo do mouse\n",
    "button.bind(\"<Button-3>\", tchau) # botao direito do mouse\n",
    "button.pack()\n",
    "\n",
    "label_welcome = Label(frame_3, text=\"\")\n",
    "label_welcome.pack()\n",
    "\n",
    "\n",
    "main_window.mainloop()"
   ]
  },
  {
   "cell_type": "markdown",
   "id": "51e3386c-1256-4196-9cc3-803bbc1c3ae0",
   "metadata": {},
   "source": [
    "# Missão"
   ]
  },
  {
   "cell_type": "markdown",
   "id": "53196360-3a39-422f-b8fd-0d6acf6ae3e6",
   "metadata": {},
   "source": [
    "1- Criar um programa com GUI para calcular o IMC. Vc pede peso e altura e exibe o resultado"
   ]
  },
  {
   "cell_type": "code",
   "execution_count": null,
   "id": "43e62d4f-744e-4c0f-917d-5f2e9cf210e5",
   "metadata": {},
   "outputs": [],
   "source": []
  },
  {
   "cell_type": "markdown",
   "id": "55b12706-cbe4-4dd7-83d1-05a44d3db9c0",
   "metadata": {},
   "source": [
    "2 - Criar um programa com GUI para converter reais em dolar e vice-versa (adicionar dois botões). Então a GUI tem uma entry e dois botões [real > dolar] e [dolar > real]."
   ]
  },
  {
   "cell_type": "code",
   "execution_count": null,
   "id": "67ded902-6128-4615-9059-ffa0821c78ab",
   "metadata": {},
   "outputs": [],
   "source": []
  },
  {
   "cell_type": "markdown",
   "id": "c5b192a9-bb83-486c-9ee8-b16d4e829a53",
   "metadata": {},
   "source": [
    "# Próxima aula"
   ]
  },
  {
   "cell_type": "markdown",
   "id": "d2eaa942-8ced-41f9-b91e-68d7d1840c78",
   "metadata": {},
   "source": [
    "Linguagens Compiladas x Interpretadas, Criando .exe"
   ]
  },
  {
   "cell_type": "code",
   "execution_count": null,
   "id": "149cefd6-0a10-4807-abc8-88ad9dd0aa32",
   "metadata": {},
   "outputs": [],
   "source": []
  }
 ],
 "metadata": {
  "kernelspec": {
   "display_name": "Python 3 (ipykernel)",
   "language": "python",
   "name": "python3"
  },
  "language_info": {
   "codemirror_mode": {
    "name": "ipython",
    "version": 3
   },
   "file_extension": ".py",
   "mimetype": "text/x-python",
   "name": "python",
   "nbconvert_exporter": "python",
   "pygments_lexer": "ipython3",
   "version": "3.9.12"
  }
 },
 "nbformat": 4,
 "nbformat_minor": 5
}
